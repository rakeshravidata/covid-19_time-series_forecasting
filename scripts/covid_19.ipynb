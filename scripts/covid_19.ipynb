{
 "cells": [
  {
   "cell_type": "markdown",
   "metadata": {},
   "source": [
    "Reading Data"
   ]
  },
  {
   "cell_type": "code",
   "execution_count": 69,
   "metadata": {},
   "outputs": [],
   "source": [
    "\n",
    "import time\n",
    "import re\n",
    "import os\n",
    "import pandas as pd \n",
    "import numpy as np\n",
    "import fastai\n",
    "import seaborn as sns\n",
    "import matplotlib.pyplot as plt\n",
    "from sklearn.metrics import roc_curve, auc\n",
    "from sklearn.metrics import confusion_matrix\n",
    "from sklearn.metrics import classification_report\n",
    "from sklearn.model_selection import KFold, cross_val_score\n",
    "from sklearn.model_selection import train_test_split, GridSearchCV\n",
    "from sklearn.ensemble import RandomForestRegressor \n",
    "from sklearn.preprocessing import LabelEncoder\n",
    "from sklearn.model_selection import train_test_split\n",
    "from sklearn.metrics import mean_squared_log_error"
   ]
  },
  {
   "cell_type": "code",
   "execution_count": 70,
   "metadata": {
    "_cell_guid": "79c7e3d0-c299-4dcb-8224-4455121ee9b0",
    "_uuid": "d629ff2d2480ee46fbb7e2d37f6b5fab8052498a"
   },
   "outputs": [],
   "source": [
    "train_df = pd.read_csv(\"/Users/rakeshravi/Downloads/covid19-global-forecasting-week-1/train.csv\")\n",
    "test_df = pd.read_csv(\"/Users/rakeshravi/Downloads/covid19-global-forecasting-week-1/test.csv\")"
   ]
  },
  {
   "cell_type": "markdown",
   "metadata": {},
   "source": [
    "Functions\n"
   ]
  },
  {
   "cell_type": "code",
   "execution_count": 71,
   "metadata": {},
   "outputs": [],
   "source": [
    "def add_datepart(df, fldname, drop=True):\n",
    "    fld = df[fldname]\n",
    "    if not np.issubdtype(fld.dtype, np.datetime64):\n",
    "        df[fldname] = fld = pd.to_datetime(fld, infer_datetime_format=True)\n",
    "    targ_pre = re.sub('[Dd]ate$', '', fldname)\n",
    "    for n in ('Year', 'Month', 'Week', 'Day', 'Dayofweek', 'Dayofyear',\n",
    "            'Is_month_end', 'Is_month_start', 'Is_quarter_end', 'Is_quarter_start', 'Is_year_end', 'Is_year_start'):\n",
    "        df[targ_pre+n] = getattr(fld.dt,n.lower())\n",
    "    df[targ_pre+'Elapsed'] = fld.astype(np.int64) // 10**9\n",
    "    if drop: df.drop(fldname, axis=1, inplace=True)\n",
    "        \n",
    "# def create_submission(test_df,model):"
   ]
  },
  {
   "cell_type": "code",
   "execution_count": 72,
   "metadata": {},
   "outputs": [],
   "source": [
    "train_df.drop([\"Id\"], axis = 1, inplace = True)"
   ]
  },
  {
   "cell_type": "code",
   "execution_count": 73,
   "metadata": {},
   "outputs": [],
   "source": [
    "for col in [\"Country/Region\",\"Province/State\",\"Date\"]:\n",
    "    train_df[col] = train_df[col].astype(\"str\")\n",
    "    test_df[col] = test_df[col].astype(\"str\")\n",
    "train_df = train_df.sort_values(\"Date\")"
   ]
  },
  {
   "cell_type": "code",
   "execution_count": 74,
   "metadata": {},
   "outputs": [],
   "source": [
    "l_country = LabelEncoder()\n",
    "train_df['Country/Region'] = l_country.fit_transform(train_df['Country/Region'])\n",
    "l_state = LabelEncoder()\n",
    "train_df['Province/State'] = l_state.fit_transform(train_df['Province/State'])\n",
    "l_date = LabelEncoder()\n",
    "train_df['Date'] = l_date.fit_transform(train_df['Date'])"
   ]
  },
  {
   "cell_type": "code",
   "execution_count": 75,
   "metadata": {},
   "outputs": [],
   "source": [
    "train_df[\"Lat\"].fillna(0, inplace = True)\n",
    "train_df[\"Long\"].fillna(0, inplace = True)\n",
    "train_set_df =  train_df[:10000]\n",
    "val_set_df = train_df[10000:]"
   ]
  },
  {
   "cell_type": "code",
   "execution_count": 76,
   "metadata": {},
   "outputs": [],
   "source": [
    "X_train,y1_train,y2_train = train_set_df.drop([\"ConfirmedCases\",\"Fatalities\"], axis = 1),train_set_df[\"ConfirmedCases\"],train_set_df[\"Fatalities\"]\n",
    "X_val,y1_val,y2_val = val_set_df.drop([\"ConfirmedCases\",\"Fatalities\"], axis = 1),val_set_df[\"ConfirmedCases\"],val_set_df[\"Fatalities\"]\n"
   ]
  },
  {
   "cell_type": "code",
   "execution_count": 77,
   "metadata": {},
   "outputs": [
    {
     "data": {
      "text/plain": [
       "RandomForestRegressor(bootstrap=True, criterion='mse', max_depth=None,\n",
       "           max_features='auto', max_leaf_nodes=None,\n",
       "           min_impurity_decrease=0.0, min_impurity_split=None,\n",
       "           min_samples_leaf=1, min_samples_split=2,\n",
       "           min_weight_fraction_leaf=0.0, n_estimators=400, n_jobs=None,\n",
       "           oob_score=False, random_state=42, verbose=0, warm_start=False)"
      ]
     },
     "execution_count": 77,
     "metadata": {},
     "output_type": "execute_result"
    }
   ],
   "source": [
    "# Set the random state for reproducibility\n",
    "model_rf_1 = RandomForestRegressor(n_estimators=400, random_state=42)\n",
    "model_rf_1.fit(X_train,y1_train)\n",
    "model_rf_2 = RandomForestRegressor(n_estimators=400, random_state=42)\n",
    "model_rf_2.fit(pd.concat([X_train,y1_train],axis = 1),y2_train)"
   ]
  },
  {
   "cell_type": "code",
   "execution_count": 78,
   "metadata": {},
   "outputs": [
    {
     "data": {
      "text/plain": [
       "4.229308707934567"
      ]
     },
     "execution_count": 78,
     "metadata": {},
     "output_type": "execute_result"
    }
   ],
   "source": [
    "y1_preds = round(pd.DataFrame(model_rf_1.predict(X_val), columns = [\"ConfirmedCases\"]))\n",
    "mean_squared_log_error(y1_val,y1_preds)"
   ]
  },
  {
   "cell_type": "code",
   "execution_count": 79,
   "metadata": {},
   "outputs": [
    {
     "data": {
      "text/plain": [
       "0.42914999357028527"
      ]
     },
     "execution_count": 79,
     "metadata": {},
     "output_type": "execute_result"
    }
   ],
   "source": [
    "y2_preds = pd.DataFrame(model_rf_2.predict(pd.concat([X_val,y1_val], axis = 1)), columns = [\"Fatalities\"])\n",
    "mean_squared_log_error(y2_val, y2_preds)"
   ]
  },
  {
   "cell_type": "code",
   "execution_count": 82,
   "metadata": {},
   "outputs": [
    {
     "ename": "ModuleNotFoundError",
     "evalue": "No module named 'fbprophet'",
     "output_type": "error",
     "traceback": [
      "\u001b[0;31m---------------------------------------------------------------------------\u001b[0m",
      "\u001b[0;31mModuleNotFoundError\u001b[0m                       Traceback (most recent call last)",
      "\u001b[0;32m<ipython-input-82-7bda92cab60d>\u001b[0m in \u001b[0;36m<module>\u001b[0;34m\u001b[0m\n\u001b[1;32m      1\u001b[0m \u001b[0;32mimport\u001b[0m \u001b[0mpandas\u001b[0m \u001b[0;32mas\u001b[0m \u001b[0mpd\u001b[0m\u001b[0;34m\u001b[0m\u001b[0;34m\u001b[0m\u001b[0m\n\u001b[0;32m----> 2\u001b[0;31m \u001b[0;32mfrom\u001b[0m \u001b[0mfbprophet\u001b[0m \u001b[0;32mimport\u001b[0m \u001b[0mProphet\u001b[0m\u001b[0;34m\u001b[0m\u001b[0;34m\u001b[0m\u001b[0m\n\u001b[0m",
      "\u001b[0;31mModuleNotFoundError\u001b[0m: No module named 'fbprophet'"
     ]
    }
   ],
   "source": [
    "import pandas as pd\n",
    "from fbprophet import Prophet\n"
   ]
  },
  {
   "cell_type": "code",
   "execution_count": 81,
   "metadata": {},
   "outputs": [
    {
     "name": "stdout",
     "output_type": "stream",
     "text": [
      "Collecting fbprophet\n",
      "\u001b[?25l  Downloading https://files.pythonhosted.org/packages/f7/86/4509e952f9724f084625e93e0bf8d8519b25c79029a0a916b0f996644c75/fbprophet-0.6.tar.gz (54kB)\n",
      "\u001b[K    100% |████████████████████████████████| 61kB 1.1MB/s ta 0:00:01\n",
      "\u001b[?25hRequirement already satisfied: Cython>=0.22 in /anaconda3/lib/python3.6/site-packages (from fbprophet) (0.29.2)\n",
      "Collecting cmdstanpy==0.4 (from fbprophet)\n",
      "  Downloading https://files.pythonhosted.org/packages/e3/a7/6d045520e6ad11cf630b483f02a0645e743fcc7f75c28fd344c769100203/cmdstanpy-0.4.0-py3-none-any.whl\n",
      "Collecting pystan>=2.14 (from fbprophet)\n",
      "\u001b[?25l  Downloading https://files.pythonhosted.org/packages/6b/ed/54937aeb274a73807588100127609fbc3e6f7cc2453ae5e4704b2858181a/pystan-2.19.1.1-cp36-cp36m-macosx_10_6_intel.whl (37.4MB)\n",
      "\u001b[K    100% |████████████████████████████████| 37.4MB 1.4MB/s eta 0:00:01  7% |██▌                             | 3.0MB 1.3MB/s eta 0:00:26\n",
      "\u001b[?25hRequirement already satisfied: numpy>=1.10.0 in /anaconda3/lib/python3.6/site-packages (from fbprophet) (1.16.2)\n",
      "Requirement already satisfied: pandas>=0.23.4 in /anaconda3/lib/python3.6/site-packages (from fbprophet) (0.23.4)\n",
      "Requirement already satisfied: matplotlib>=2.0.0 in /anaconda3/lib/python3.6/site-packages (from fbprophet) (2.2.3)\n",
      "Collecting LunarCalendar>=0.0.9 (from fbprophet)\n",
      "  Downloading https://files.pythonhosted.org/packages/ab/e0/a52ffc02395474858552ca6437226e23ad67e25fd85cb387f02e479cfe01/LunarCalendar-0.0.9-py2.py3-none-any.whl\n",
      "Collecting convertdate>=2.1.2 (from fbprophet)\n",
      "  Downloading https://files.pythonhosted.org/packages/c9/f8/02a18000b0fbfd714f78aa16359796727a181e80f679682e3f62771a5c23/convertdate-2.2.0-py3-none-any.whl\n",
      "Collecting holidays>=0.9.5 (from fbprophet)\n",
      "\u001b[?25l  Downloading https://files.pythonhosted.org/packages/75/b5/0b149df0c4539dd2d03e4f9a3df4869145134153c7886b3a360e10ba7ace/holidays-0.10.1.tar.gz (105kB)\n",
      "\u001b[K    100% |████████████████████████████████| 112kB 13.3MB/s ta 0:00:01\n",
      "\u001b[?25hCollecting setuptools-git>=1.2 (from fbprophet)\n",
      "  Downloading https://files.pythonhosted.org/packages/05/97/dd99fa9c0d9627a7b3c103a00f1566d8193aca8d473884ed258cca82b06f/setuptools_git-1.2-py2.py3-none-any.whl\n",
      "Collecting python-dateutil>=2.8.0 (from fbprophet)\n",
      "\u001b[?25l  Downloading https://files.pythonhosted.org/packages/d4/70/d60450c3dd48ef87586924207ae8907090de0b306af2bce5d134d78615cb/python_dateutil-2.8.1-py2.py3-none-any.whl (227kB)\n",
      "\u001b[K    100% |████████████████████████████████| 235kB 8.9MB/s eta 0:00:01\n",
      "\u001b[?25hRequirement already satisfied: pytz>=2011k in /anaconda3/lib/python3.6/site-packages (from pandas>=0.23.4->fbprophet) (2018.7)\n",
      "Requirement already satisfied: cycler>=0.10 in /anaconda3/lib/python3.6/site-packages (from matplotlib>=2.0.0->fbprophet) (0.10.0)\n",
      "Requirement already satisfied: pyparsing!=2.0.4,!=2.1.2,!=2.1.6,>=2.0.1 in /anaconda3/lib/python3.6/site-packages (from matplotlib>=2.0.0->fbprophet) (2.3.0)\n",
      "Requirement already satisfied: six>=1.10 in /anaconda3/lib/python3.6/site-packages (from matplotlib>=2.0.0->fbprophet) (1.12.0)\n",
      "Requirement already satisfied: kiwisolver>=1.0.1 in /anaconda3/lib/python3.6/site-packages (from matplotlib>=2.0.0->fbprophet) (1.0.1)\n",
      "Collecting ephem>=3.7.5.3 (from LunarCalendar>=0.0.9->fbprophet)\n",
      "\u001b[?25l  Downloading https://files.pythonhosted.org/packages/c3/28/0d976a9ff6ec65dff4929ce6df6f4bb4c4377cdb380073bd85771e64830c/ephem-3.7.7.1-cp36-cp36m-macosx_10_6_intel.whl (1.5MB)\n",
      "\u001b[K    100% |████████████████████████████████| 1.5MB 6.9MB/s ta 0:00:011    33% |██████████▉                     | 512kB 6.4MB/s eta 0:00:01\n",
      "\u001b[?25hCollecting pymeeus<=1,>=0.3.6 (from convertdate>=2.1.2->fbprophet)\n",
      "\u001b[?25l  Downloading https://files.pythonhosted.org/packages/2c/30/47957d487fff94083bdd17247734c165f12b5ac39a3abd1aa476a93eea6e/PyMeeus-0.3.7.tar.gz (732kB)\n",
      "\u001b[K    100% |████████████████████████████████| 737kB 9.8MB/s eta 0:00:01\n",
      "\u001b[?25hRequirement already satisfied: setuptools in /anaconda3/lib/python3.6/site-packages (from kiwisolver>=1.0.1->matplotlib>=2.0.0->fbprophet) (40.6.3)\n",
      "Building wheels for collected packages: fbprophet, holidays, pymeeus\n",
      "  Running setup.py bdist_wheel for fbprophet ... \u001b[?25lerror\n",
      "  Complete output from command /anaconda3/bin/python -u -c \"import setuptools, tokenize;__file__='/private/var/folders/fx/sw2mmdc15f1d08j04vg200fw0000gn/T/pip-install-f_jck06a/fbprophet/setup.py';f=getattr(tokenize, 'open', open)(__file__);code=f.read().replace('\\r\\n', '\\n');f.close();exec(compile(code, __file__, 'exec'))\" bdist_wheel -d /private/var/folders/fx/sw2mmdc15f1d08j04vg200fw0000gn/T/pip-wheel-vblykczq --python-tag cp36:\n",
      "  running bdist_wheel\n",
      "  running build\n",
      "  running build_py\n",
      "  creating build\n",
      "  creating build/lib\n",
      "  creating build/lib/fbprophet\n",
      "  creating build/lib/fbprophet/stan_model\n",
      "  Traceback (most recent call last):\n",
      "    File \"<string>\", line 1, in <module>\n",
      "    File \"/private/var/folders/fx/sw2mmdc15f1d08j04vg200fw0000gn/T/pip-install-f_jck06a/fbprophet/setup.py\", line 148, in <module>\n",
      "      \"\"\"\n",
      "    File \"/anaconda3/lib/python3.6/site-packages/setuptools/__init__.py\", line 143, in setup\n",
      "      return distutils.core.setup(**attrs)\n",
      "    File \"/anaconda3/lib/python3.6/distutils/core.py\", line 148, in setup\n",
      "      dist.run_commands()\n",
      "    File \"/anaconda3/lib/python3.6/distutils/dist.py\", line 955, in run_commands\n",
      "      self.run_command(cmd)\n",
      "    File \"/anaconda3/lib/python3.6/distutils/dist.py\", line 974, in run_command\n",
      "      cmd_obj.run()\n",
      "    File \"/anaconda3/lib/python3.6/site-packages/wheel/bdist_wheel.py\", line 188, in run\n",
      "      self.run_command('build')\n",
      "    File \"/anaconda3/lib/python3.6/distutils/cmd.py\", line 313, in run_command\n",
      "      self.distribution.run_command(command)\n",
      "    File \"/anaconda3/lib/python3.6/distutils/dist.py\", line 974, in run_command\n",
      "      cmd_obj.run()\n",
      "    File \"/anaconda3/lib/python3.6/distutils/command/build.py\", line 135, in run\n",
      "      self.run_command(cmd_name)\n",
      "    File \"/anaconda3/lib/python3.6/distutils/cmd.py\", line 313, in run_command\n",
      "      self.distribution.run_command(command)\n",
      "    File \"/anaconda3/lib/python3.6/distutils/dist.py\", line 974, in run_command\n",
      "      cmd_obj.run()\n",
      "    File \"/private/var/folders/fx/sw2mmdc15f1d08j04vg200fw0000gn/T/pip-install-f_jck06a/fbprophet/setup.py\", line 48, in run\n",
      "      build_models(target_dir)\n",
      "    File \"/private/var/folders/fx/sw2mmdc15f1d08j04vg200fw0000gn/T/pip-install-f_jck06a/fbprophet/setup.py\", line 36, in build_models\n",
      "      from fbprophet.models import StanBackendEnum\n",
      "    File \"/private/var/folders/fx/sw2mmdc15f1d08j04vg200fw0000gn/T/pip-install-f_jck06a/fbprophet/fbprophet/__init__.py\", line 8, in <module>\n",
      "      from fbprophet.forecaster import Prophet\n",
      "    File \"/private/var/folders/fx/sw2mmdc15f1d08j04vg200fw0000gn/T/pip-install-f_jck06a/fbprophet/fbprophet/forecaster.py\", line 17, in <module>\n",
      "      from fbprophet.make_holidays import get_holiday_names, make_holidays_df\n",
      "    File \"/private/var/folders/fx/sw2mmdc15f1d08j04vg200fw0000gn/T/pip-install-f_jck06a/fbprophet/fbprophet/make_holidays.py\", line 14, in <module>\n",
      "      import fbprophet.hdays as hdays_part2\n",
      "    File \"/private/var/folders/fx/sw2mmdc15f1d08j04vg200fw0000gn/T/pip-install-f_jck06a/fbprophet/fbprophet/hdays.py\", line 13, in <module>\n",
      "      from convertdate.islamic import from_gregorian, to_gregorian\n",
      "  ModuleNotFoundError: No module named 'convertdate'\n",
      "  \n",
      "  ----------------------------------------\n",
      "\u001b[31m  Failed building wheel for fbprophet\u001b[0m\n",
      "\u001b[?25h  Running setup.py clean for fbprophet\n",
      "  Running setup.py bdist_wheel for holidays ... \u001b[?25ldone\n",
      "\u001b[?25h  Stored in directory: /Users/rakeshravi/Library/Caches/pip/wheels/7a/47/8c/4413b01a0f220ad58dbb162b4e8f5f3638b150407b6ea042fa\n",
      "  Running setup.py bdist_wheel for pymeeus ... \u001b[?25ldone\n",
      "\u001b[?25h  Stored in directory: /Users/rakeshravi/Library/Caches/pip/wheels/8d/1a/e7/684cd77a99aac294f976db834fe613b5424f7c4d75ffb0b84d\n",
      "Successfully built holidays pymeeus\n",
      "Failed to build fbprophet\n",
      "Installing collected packages: cmdstanpy, pystan, python-dateutil, ephem, LunarCalendar, pymeeus, convertdate, holidays, setuptools-git, fbprophet\n",
      "  Found existing installation: python-dateutil 2.7.5\n",
      "    Uninstalling python-dateutil-2.7.5:\n",
      "      Successfully uninstalled python-dateutil-2.7.5\n"
     ]
    },
    {
     "name": "stdout",
     "output_type": "stream",
     "text": [
      "  Running setup.py install for fbprophet ... \u001b[?25lerror\n",
      "    Complete output from command /anaconda3/bin/python -u -c \"import setuptools, tokenize;__file__='/private/var/folders/fx/sw2mmdc15f1d08j04vg200fw0000gn/T/pip-install-f_jck06a/fbprophet/setup.py';f=getattr(tokenize, 'open', open)(__file__);code=f.read().replace('\\r\\n', '\\n');f.close();exec(compile(code, __file__, 'exec'))\" install --record /private/var/folders/fx/sw2mmdc15f1d08j04vg200fw0000gn/T/pip-record-ebmph2oa/install-record.txt --single-version-externally-managed --compile:\n",
      "    running install\n",
      "    running build\n",
      "    running build_py\n",
      "    creating build\n",
      "    creating build/lib\n",
      "    creating build/lib/fbprophet\n",
      "    creating build/lib/fbprophet/stan_model\n",
      "    Importing plotly failed. Interactive plots will not work.\n",
      "    INFO:pystan:COMPILING THE C++ CODE FOR MODEL anon_model_888a84912910fa0a45b9d614b75bb8a8 NOW.\n",
      "    error: command 'gcc' failed with exit status 1\n",
      "    \n",
      "    ----------------------------------------\n",
      "\u001b[31mCommand \"/anaconda3/bin/python -u -c \"import setuptools, tokenize;__file__='/private/var/folders/fx/sw2mmdc15f1d08j04vg200fw0000gn/T/pip-install-f_jck06a/fbprophet/setup.py';f=getattr(tokenize, 'open', open)(__file__);code=f.read().replace('\\r\\n', '\\n');f.close();exec(compile(code, __file__, 'exec'))\" install --record /private/var/folders/fx/sw2mmdc15f1d08j04vg200fw0000gn/T/pip-record-ebmph2oa/install-record.txt --single-version-externally-managed --compile\" failed with error code 1 in /private/var/folders/fx/sw2mmdc15f1d08j04vg200fw0000gn/T/pip-install-f_jck06a/fbprophet/\u001b[0m\n",
      "\u001b[?25h"
     ]
    }
   ],
   "source": [
    "!pip install fbprophet"
   ]
  },
  {
   "cell_type": "code",
   "execution_count": null,
   "metadata": {},
   "outputs": [],
   "source": []
  }
 ],
 "metadata": {
  "kernelspec": {
   "display_name": "Python 3",
   "language": "python",
   "name": "python3"
  },
  "language_info": {
   "codemirror_mode": {
    "name": "ipython",
    "version": 3
   },
   "file_extension": ".py",
   "mimetype": "text/x-python",
   "name": "python",
   "nbconvert_exporter": "python",
   "pygments_lexer": "ipython3",
   "version": "3.6.8"
  }
 },
 "nbformat": 4,
 "nbformat_minor": 4
}
